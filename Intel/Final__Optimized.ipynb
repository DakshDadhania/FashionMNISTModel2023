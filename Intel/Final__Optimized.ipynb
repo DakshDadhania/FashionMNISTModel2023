{
 "cells": [
  {
   "cell_type": "code",
   "execution_count": 1,
   "id": "8e7786ef-91a6-4a29-90db-0204e264322a",
   "metadata": {},
   "outputs": [
    {
     "name": "stdout",
     "output_type": "stream",
     "text": [
      "Defaulting to user installation because normal site-packages is not writeable\n",
      "Requirement already satisfied: intel-tensorflow in /glob/development-tools/versions/oneapi/2023.1.2/oneapi/tensorflow/2.12.0/lib/python3.9/site-packages (2.12.0)\n",
      "Requirement already satisfied: six>=1.12.0 in /glob/development-tools/versions/oneapi/2023.1.2/oneapi/tensorflow/2.12.0/lib/python3.9/site-packages (from intel-tensorflow) (1.16.0)\n",
      "Requirement already satisfied: tensorflow-estimator<2.13,>=2.12.0 in ./.local/lib/python3.9/site-packages (from intel-tensorflow) (2.12.0)\n",
      "Requirement already satisfied: typing-extensions>=3.6.6 in /glob/development-tools/versions/oneapi/2023.1.2/oneapi/tensorflow/2.12.0/lib/python3.9/site-packages (from intel-tensorflow) (4.1.1)\n",
      "Requirement already satisfied: keras<2.13,>=2.12.0 in ./.local/lib/python3.9/site-packages (from intel-tensorflow) (2.12.0)\n",
      "Requirement already satisfied: tensorboard<2.13,>=2.12 in ./.local/lib/python3.9/site-packages (from intel-tensorflow) (2.12.3)\n",
      "Requirement already satisfied: google-pasta>=0.1.1 in ./.local/lib/python3.9/site-packages (from intel-tensorflow) (0.2.0)\n",
      "Requirement already satisfied: protobuf!=4.21.0,!=4.21.1,!=4.21.2,!=4.21.3,!=4.21.4,!=4.21.5,<5.0.0dev,>=3.20.3 in ./.local/lib/python3.9/site-packages (from intel-tensorflow) (4.23.2)\n",
      "Requirement already satisfied: setuptools in /glob/development-tools/versions/oneapi/2023.1.2/oneapi/tensorflow/2.12.0/lib/python3.9/site-packages (from intel-tensorflow) (65.6.3)\n",
      "Requirement already satisfied: wrapt<1.15,>=1.11.0 in ./.local/lib/python3.9/site-packages (from intel-tensorflow) (1.14.1)\n",
      "Requirement already satisfied: opt-einsum>=2.3.2 in ./.local/lib/python3.9/site-packages (from intel-tensorflow) (3.3.0)\n",
      "Requirement already satisfied: jax>=0.3.15 in ./.local/lib/python3.9/site-packages (from intel-tensorflow) (0.4.11)\n",
      "Requirement already satisfied: libclang>=13.0.0 in ./.local/lib/python3.9/site-packages (from intel-tensorflow) (16.0.0)\n",
      "Requirement already satisfied: astunparse>=1.6.0 in ./.local/lib/python3.9/site-packages (from intel-tensorflow) (1.6.3)\n",
      "Requirement already satisfied: grpcio<2.0,>=1.24.3 in ./.local/lib/python3.9/site-packages (from intel-tensorflow) (1.54.2)\n",
      "Requirement already satisfied: flatbuffers>=2.0 in ./.local/lib/python3.9/site-packages (from intel-tensorflow) (23.5.26)\n",
      "Requirement already satisfied: absl-py>=1.0.0 in ./.local/lib/python3.9/site-packages (from intel-tensorflow) (1.4.0)\n",
      "Requirement already satisfied: h5py>=2.9.0 in ./.local/lib/python3.9/site-packages (from intel-tensorflow) (3.8.0)\n",
      "Requirement already satisfied: tensorflow-io-gcs-filesystem>=0.23.1 in ./.local/lib/python3.9/site-packages (from intel-tensorflow) (0.32.0)\n",
      "Requirement already satisfied: termcolor>=1.1.0 in ./.local/lib/python3.9/site-packages (from intel-tensorflow) (2.3.0)\n",
      "Requirement already satisfied: packaging in /glob/development-tools/versions/oneapi/2023.1.2/oneapi/tensorflow/2.12.0/lib/python3.9/site-packages (from intel-tensorflow) (22.0)\n",
      "Requirement already satisfied: gast<=0.4.0,>=0.2.1 in ./.local/lib/python3.9/site-packages (from intel-tensorflow) (0.4.0)\n",
      "Requirement already satisfied: numpy<1.24,>=1.22 in ./.local/lib/python3.9/site-packages (from intel-tensorflow) (1.22.4)\n",
      "Requirement already satisfied: wheel<1.0,>=0.23.0 in /glob/development-tools/versions/oneapi/2023.1.2/oneapi/tensorflow/2.12.0/lib/python3.9/site-packages (from astunparse>=1.6.0->intel-tensorflow) (0.38.4)\n",
      "Requirement already satisfied: importlib-metadata>=4.6 in /glob/development-tools/versions/oneapi/2023.1.2/oneapi/tensorflow/2.12.0/lib/python3.9/site-packages (from jax>=0.3.15->intel-tensorflow) (6.0.0)\n",
      "Requirement already satisfied: ml-dtypes>=0.1.0 in ./.local/lib/python3.9/site-packages (from jax>=0.3.15->intel-tensorflow) (0.1.0)\n",
      "Requirement already satisfied: scipy>=1.7 in /glob/development-tools/versions/oneapi/2023.1.2/oneapi/tensorflow/2.12.0/lib/python3.9/site-packages (from jax>=0.3.15->intel-tensorflow) (1.7.3)\n",
      "Requirement already satisfied: google-auth-oauthlib<1.1,>=0.5 in ./.local/lib/python3.9/site-packages (from tensorboard<2.13,>=2.12->intel-tensorflow) (1.0.0)\n",
      "Requirement already satisfied: google-auth<3,>=1.6.3 in ./.local/lib/python3.9/site-packages (from tensorboard<2.13,>=2.12->intel-tensorflow) (2.19.1)\n",
      "Requirement already satisfied: markdown>=2.6.8 in ./.local/lib/python3.9/site-packages (from tensorboard<2.13,>=2.12->intel-tensorflow) (3.4.3)\n",
      "Requirement already satisfied: requests<3,>=2.21.0 in /glob/development-tools/versions/oneapi/2023.1.2/oneapi/tensorflow/2.12.0/lib/python3.9/site-packages (from tensorboard<2.13,>=2.12->intel-tensorflow) (2.28.1)\n",
      "Requirement already satisfied: tensorboard-data-server<0.8.0,>=0.7.0 in ./.local/lib/python3.9/site-packages (from tensorboard<2.13,>=2.12->intel-tensorflow) (0.7.0)\n",
      "Requirement already satisfied: werkzeug>=1.0.1 in ./.local/lib/python3.9/site-packages (from tensorboard<2.13,>=2.12->intel-tensorflow) (2.3.4)\n",
      "Requirement already satisfied: rsa<5,>=3.1.4 in ./.local/lib/python3.9/site-packages (from google-auth<3,>=1.6.3->tensorboard<2.13,>=2.12->intel-tensorflow) (4.9)\n",
      "Requirement already satisfied: cachetools<6.0,>=2.0.0 in ./.local/lib/python3.9/site-packages (from google-auth<3,>=1.6.3->tensorboard<2.13,>=2.12->intel-tensorflow) (5.3.1)\n",
      "Requirement already satisfied: urllib3<2.0 in /glob/development-tools/versions/oneapi/2023.1.2/oneapi/tensorflow/2.12.0/lib/python3.9/site-packages (from google-auth<3,>=1.6.3->tensorboard<2.13,>=2.12->intel-tensorflow) (1.26.14)\n",
      "Requirement already satisfied: pyasn1-modules>=0.2.1 in ./.local/lib/python3.9/site-packages (from google-auth<3,>=1.6.3->tensorboard<2.13,>=2.12->intel-tensorflow) (0.3.0)\n",
      "Requirement already satisfied: requests-oauthlib>=0.7.0 in ./.local/lib/python3.9/site-packages (from google-auth-oauthlib<1.1,>=0.5->tensorboard<2.13,>=2.12->intel-tensorflow) (1.3.1)\n",
      "Requirement already satisfied: zipp>=0.5 in /glob/development-tools/versions/oneapi/2023.1.2/oneapi/tensorflow/2.12.0/lib/python3.9/site-packages (from importlib-metadata>=4.6->jax>=0.3.15->intel-tensorflow) (3.11.0)\n",
      "Requirement already satisfied: charset-normalizer<3,>=2 in /glob/development-tools/versions/oneapi/2023.1.2/oneapi/tensorflow/2.12.0/lib/python3.9/site-packages (from requests<3,>=2.21.0->tensorboard<2.13,>=2.12->intel-tensorflow) (2.0.4)\n",
      "Requirement already satisfied: certifi>=2017.4.17 in /glob/development-tools/versions/oneapi/2023.1.2/oneapi/tensorflow/2.12.0/lib/python3.9/site-packages (from requests<3,>=2.21.0->tensorboard<2.13,>=2.12->intel-tensorflow) (2022.12.7)\n",
      "Requirement already satisfied: idna<4,>=2.5 in /glob/development-tools/versions/oneapi/2023.1.2/oneapi/tensorflow/2.12.0/lib/python3.9/site-packages (from requests<3,>=2.21.0->tensorboard<2.13,>=2.12->intel-tensorflow) (3.4)\n",
      "Requirement already satisfied: MarkupSafe>=2.1.1 in ./.local/lib/python3.9/site-packages (from werkzeug>=1.0.1->tensorboard<2.13,>=2.12->intel-tensorflow) (2.1.3)\n",
      "Requirement already satisfied: pyasn1<0.6.0,>=0.4.6 in ./.local/lib/python3.9/site-packages (from pyasn1-modules>=0.2.1->google-auth<3,>=1.6.3->tensorboard<2.13,>=2.12->intel-tensorflow) (0.5.0)\n",
      "Requirement already satisfied: oauthlib>=3.0.0 in ./.local/lib/python3.9/site-packages (from requests-oauthlib>=0.7.0->google-auth-oauthlib<1.1,>=0.5->tensorboard<2.13,>=2.12->intel-tensorflow) (3.2.2)\n",
      "Note: you may need to restart the kernel to use updated packages.\n"
     ]
    }
   ],
   "source": [
    "pip install intel-tensorflow"
   ]
  },
  {
   "cell_type": "code",
   "execution_count": 2,
   "id": "932174d8-cf6d-4fdf-aab8-636353a5d384",
   "metadata": {},
   "outputs": [
    {
     "name": "stderr",
     "output_type": "stream",
     "text": [
      "2023-06-20 01:41:34.777825: I tensorflow/tsl/cuda/cudart_stub.cc:28] Could not find cuda drivers on your machine, GPU will not be used.\n",
      "2023-06-20 01:41:34.818639: I tensorflow/tsl/cuda/cudart_stub.cc:28] Could not find cuda drivers on your machine, GPU will not be used.\n",
      "2023-06-20 01:41:34.821530: I tensorflow/core/platform/cpu_feature_guard.cc:182] This TensorFlow binary is optimized to use available CPU instructions in performance-critical operations.\n",
      "To enable the following instructions: AVX2 AVX512F FMA, in other operations, rebuild TensorFlow with the appropriate compiler flags.\n",
      "2023-06-20 01:41:38.792708: W tensorflow/compiler/tf2tensorrt/utils/py_utils.cc:38] TF-TRT Warning: Could not find TensorRT\n",
      "2023-06-20 01:41:42.594638: E itex/core/kernels/xpu_kernel.cc:38] XPU-GPU kernel not supported.\n",
      "If you need help, create an issue at https://github.com/intel/intel-extension-for-tensorflow/issues\n"
     ]
    }
   ],
   "source": [
    "import tensorflow as tf\n",
    "import numpy as np\n",
    "import pandas as pd\n",
    "import matplotlib.pyplot as plt\n",
    "from tensorflow.keras import datasets,models,layers\n",
    "from tensorflow.keras.models import Sequential\n",
    "from tensorflow.keras.layers import Dense"
   ]
  },
  {
   "cell_type": "code",
   "execution_count": 3,
   "id": "2e480999-4567-479d-a634-01d2bc68751c",
   "metadata": {},
   "outputs": [],
   "source": [
    "tf.enable_onednn_opts=1"
   ]
  },
  {
   "cell_type": "code",
   "execution_count": 4,
   "id": "d1183ffd-ed61-40ce-98cf-7ee6a6c30a2d",
   "metadata": {},
   "outputs": [],
   "source": [
    "(training_images, training_labels), (test_images, test_labels) = datasets.fashion_mnist.load_data()"
   ]
  },
  {
   "cell_type": "code",
   "execution_count": 5,
   "id": "e677ae4c-855a-4aa4-b94f-fa3751d874f8",
   "metadata": {},
   "outputs": [],
   "source": [
    "training_images = training_images.reshape(60000,28,28,1)\n",
    "test_images = test_images.reshape(10000,28,28,1)"
   ]
  },
  {
   "cell_type": "code",
   "execution_count": 6,
   "id": "2d6d91ef-c5cf-47a1-bc28-9a8eb2ba5340",
   "metadata": {},
   "outputs": [],
   "source": [
    "training_images, test_images = training_images / 255.0, test_images / 255.0"
   ]
  },
  {
   "cell_type": "code",
   "execution_count": 7,
   "id": "48b8aca6-8857-4885-bd25-74fbfc0836ba",
   "metadata": {},
   "outputs": [],
   "source": [
    "model = Sequential([\n",
    "    tf.keras.layers.Conv2D(128,(3,3),activation=\"relu\",input_shape=(28,28,1)),\n",
    "    tf.keras.layers.Conv2D(64,(3,3),activation=\"relu\"),\n",
    "    tf.keras.layers.MaxPooling2D(2,2),\n",
    "    tf.keras.layers.Conv2D(32,(3,3),activation=\"relu\"),\n",
    "    tf.keras.layers.Flatten(),\n",
    "    tf.keras.layers.Dense(256,activation=\"relu\"),\n",
    "    tf.keras.layers.Dense(64,activation=\"relu\"),\n",
    "    tf.keras.layers.Dense(10,activation=\"softmax\")\n",
    "])"
   ]
  },
  {
   "cell_type": "code",
   "execution_count": 8,
   "id": "bf46d2de-d288-4db8-9692-730bde6d271c",
   "metadata": {},
   "outputs": [
    {
     "name": "stdout",
     "output_type": "stream",
     "text": [
      "Model: \"sequential\"\n",
      "_________________________________________________________________\n",
      " Layer (type)                Output Shape              Param #   \n",
      "=================================================================\n",
      " conv2d (Conv2D)             (None, 26, 26, 128)       1280      \n",
      "                                                                 \n",
      " conv2d_1 (Conv2D)           (None, 24, 24, 64)        73792     \n",
      "                                                                 \n",
      " max_pooling2d (MaxPooling2D  (None, 12, 12, 64)       0         \n",
      " )                                                               \n",
      "                                                                 \n",
      " conv2d_2 (Conv2D)           (None, 10, 10, 32)        18464     \n",
      "                                                                 \n",
      " flatten (Flatten)           (None, 3200)              0         \n",
      "                                                                 \n",
      " dense (Dense)               (None, 256)               819456    \n",
      "                                                                 \n",
      " dense_1 (Dense)             (None, 64)                16448     \n",
      "                                                                 \n",
      " dense_2 (Dense)             (None, 10)                650       \n",
      "                                                                 \n",
      "=================================================================\n",
      "Total params: 930,090\n",
      "Trainable params: 930,090\n",
      "Non-trainable params: 0\n",
      "_________________________________________________________________\n"
     ]
    }
   ],
   "source": [
    "model.summary()"
   ]
  },
  {
   "cell_type": "code",
   "execution_count": 9,
   "id": "2a895238-966e-4eaf-abcb-bac650ca42ac",
   "metadata": {},
   "outputs": [],
   "source": [
    "model.compile(optimizer='adam', loss='sparse_categorical_crossentropy', metrics=['accuracy'])\n"
   ]
  },
  {
   "cell_type": "code",
   "execution_count": 10,
   "id": "b6fdef08-9bcc-45d9-87a7-0fed67286b06",
   "metadata": {},
   "outputs": [
    {
     "name": "stdout",
     "output_type": "stream",
     "text": [
      "Epoch 1/15\n"
     ]
    },
    {
     "name": "stderr",
     "output_type": "stream",
     "text": [
      "2023-06-20 01:41:47.296403: I tensorflow/core/grappler/optimizers/custom_graph_optimizer_registry.cc:114] Plugin optimizer for device_type CPU is enabled.\n",
      "2023-06-20 01:41:47.313668: I tensorflow/core/grappler/optimizers/custom_graph_optimizer_registry.cc:114] Plugin optimizer for device_type CPU is enabled.\n",
      "2023-06-20 01:41:47.325083: I tensorflow/core/grappler/optimizers/custom_graph_optimizer_registry.cc:114] Plugin optimizer for device_type CPU is enabled.\n",
      "2023-06-20 01:41:47.969379: I tensorflow/core/grappler/optimizers/custom_graph_optimizer_registry.cc:114] Plugin optimizer for device_type CPU is enabled.\n"
     ]
    },
    {
     "name": "stdout",
     "output_type": "stream",
     "text": [
      "1875/1875 [==============================] - ETA: 0s - loss: 0.4020 - accuracy: 0.8547"
     ]
    },
    {
     "name": "stderr",
     "output_type": "stream",
     "text": [
      "2023-06-20 01:42:31.407052: I tensorflow/core/grappler/optimizers/custom_graph_optimizer_registry.cc:114] Plugin optimizer for device_type CPU is enabled.\n",
      "2023-06-20 01:42:31.416950: I tensorflow/core/grappler/optimizers/custom_graph_optimizer_registry.cc:114] Plugin optimizer for device_type CPU is enabled.\n",
      "2023-06-20 01:42:31.432967: I tensorflow/core/grappler/optimizers/custom_graph_optimizer_registry.cc:114] Plugin optimizer for device_type CPU is enabled.\n",
      "2023-06-20 01:42:31.560102: I tensorflow/core/grappler/optimizers/custom_graph_optimizer_registry.cc:114] Plugin optimizer for device_type CPU is enabled.\n"
     ]
    },
    {
     "name": "stdout",
     "output_type": "stream",
     "text": [
      "1875/1875 [==============================] - 46s 24ms/step - loss: 0.4020 - accuracy: 0.8547 - val_loss: 0.2906 - val_accuracy: 0.8931\n",
      "Epoch 2/15\n",
      "1875/1875 [==============================] - ETA: 0s - loss: 0.2510 - accuracy: 0.9083"
     ]
    },
    {
     "name": "stderr",
     "output_type": "stream",
     "text": [
      "2023-06-20 01:43:14.215395: I tensorflow/core/grappler/optimizers/custom_graph_optimizer_registry.cc:114] Plugin optimizer for device_type CPU is enabled.\n",
      "2023-06-20 01:43:14.224827: I tensorflow/core/grappler/optimizers/custom_graph_optimizer_registry.cc:114] Plugin optimizer for device_type CPU is enabled.\n",
      "2023-06-20 01:43:14.238693: I tensorflow/core/grappler/optimizers/custom_graph_optimizer_registry.cc:114] Plugin optimizer for device_type CPU is enabled.\n"
     ]
    },
    {
     "name": "stdout",
     "output_type": "stream",
     "text": [
      "1875/1875 [==============================] - 43s 23ms/step - loss: 0.2510 - accuracy: 0.9083 - val_loss: 0.2810 - val_accuracy: 0.8947\n",
      "Epoch 3/15\n",
      "1873/1875 [============================>.] - ETA: 0s - loss: 0.2024 - accuracy: 0.9248"
     ]
    },
    {
     "name": "stderr",
     "output_type": "stream",
     "text": [
      "2023-06-20 01:43:56.822178: I tensorflow/core/grappler/optimizers/custom_graph_optimizer_registry.cc:114] Plugin optimizer for device_type CPU is enabled.\n",
      "2023-06-20 01:43:56.831757: I tensorflow/core/grappler/optimizers/custom_graph_optimizer_registry.cc:114] Plugin optimizer for device_type CPU is enabled.\n",
      "2023-06-20 01:43:56.845661: I tensorflow/core/grappler/optimizers/custom_graph_optimizer_registry.cc:114] Plugin optimizer for device_type CPU is enabled.\n"
     ]
    },
    {
     "name": "stdout",
     "output_type": "stream",
     "text": [
      "1875/1875 [==============================] - 43s 23ms/step - loss: 0.2023 - accuracy: 0.9247 - val_loss: 0.2362 - val_accuracy: 0.9148\n",
      "Epoch 4/15\n",
      "1873/1875 [============================>.] - ETA: 0s - loss: 0.1641 - accuracy: 0.9388"
     ]
    },
    {
     "name": "stderr",
     "output_type": "stream",
     "text": [
      "2023-06-20 01:44:39.565540: I tensorflow/core/grappler/optimizers/custom_graph_optimizer_registry.cc:114] Plugin optimizer for device_type CPU is enabled.\n",
      "2023-06-20 01:44:39.575012: I tensorflow/core/grappler/optimizers/custom_graph_optimizer_registry.cc:114] Plugin optimizer for device_type CPU is enabled.\n",
      "2023-06-20 01:44:39.589024: I tensorflow/core/grappler/optimizers/custom_graph_optimizer_registry.cc:114] Plugin optimizer for device_type CPU is enabled.\n"
     ]
    },
    {
     "name": "stdout",
     "output_type": "stream",
     "text": [
      "1875/1875 [==============================] - 43s 23ms/step - loss: 0.1640 - accuracy: 0.9389 - val_loss: 0.2350 - val_accuracy: 0.9189\n",
      "Epoch 5/15\n",
      "1875/1875 [==============================] - ETA: 0s - loss: 0.1334 - accuracy: 0.9500"
     ]
    },
    {
     "name": "stderr",
     "output_type": "stream",
     "text": [
      "2023-06-20 01:45:22.345396: I tensorflow/core/grappler/optimizers/custom_graph_optimizer_registry.cc:114] Plugin optimizer for device_type CPU is enabled.\n",
      "2023-06-20 01:45:22.354372: I tensorflow/core/grappler/optimizers/custom_graph_optimizer_registry.cc:114] Plugin optimizer for device_type CPU is enabled.\n",
      "2023-06-20 01:45:22.368026: I tensorflow/core/grappler/optimizers/custom_graph_optimizer_registry.cc:114] Plugin optimizer for device_type CPU is enabled.\n"
     ]
    },
    {
     "name": "stdout",
     "output_type": "stream",
     "text": [
      "1875/1875 [==============================] - 43s 23ms/step - loss: 0.1334 - accuracy: 0.9500 - val_loss: 0.2360 - val_accuracy: 0.9208\n",
      "Epoch 6/15\n",
      "1873/1875 [============================>.] - ETA: 0s - loss: 0.1072 - accuracy: 0.9610"
     ]
    },
    {
     "name": "stderr",
     "output_type": "stream",
     "text": [
      "2023-06-20 01:46:05.007526: I tensorflow/core/grappler/optimizers/custom_graph_optimizer_registry.cc:114] Plugin optimizer for device_type CPU is enabled.\n",
      "2023-06-20 01:46:05.016955: I tensorflow/core/grappler/optimizers/custom_graph_optimizer_registry.cc:114] Plugin optimizer for device_type CPU is enabled.\n",
      "2023-06-20 01:46:05.030858: I tensorflow/core/grappler/optimizers/custom_graph_optimizer_registry.cc:114] Plugin optimizer for device_type CPU is enabled.\n"
     ]
    },
    {
     "name": "stdout",
     "output_type": "stream",
     "text": [
      "1875/1875 [==============================] - 43s 23ms/step - loss: 0.1072 - accuracy: 0.9610 - val_loss: 0.2695 - val_accuracy: 0.9171\n",
      "Epoch 7/15\n",
      "1873/1875 [============================>.] - ETA: 0s - loss: 0.0874 - accuracy: 0.9677"
     ]
    },
    {
     "name": "stderr",
     "output_type": "stream",
     "text": [
      "2023-06-20 01:46:47.647692: I tensorflow/core/grappler/optimizers/custom_graph_optimizer_registry.cc:114] Plugin optimizer for device_type CPU is enabled.\n",
      "2023-06-20 01:46:47.656744: I tensorflow/core/grappler/optimizers/custom_graph_optimizer_registry.cc:114] Plugin optimizer for device_type CPU is enabled.\n",
      "2023-06-20 01:46:47.670638: I tensorflow/core/grappler/optimizers/custom_graph_optimizer_registry.cc:114] Plugin optimizer for device_type CPU is enabled.\n"
     ]
    },
    {
     "name": "stdout",
     "output_type": "stream",
     "text": [
      "1875/1875 [==============================] - 43s 23ms/step - loss: 0.0875 - accuracy: 0.9676 - val_loss: 0.2735 - val_accuracy: 0.9191\n",
      "Epoch 8/15\n",
      "1875/1875 [==============================] - ETA: 0s - loss: 0.0700 - accuracy: 0.9740"
     ]
    },
    {
     "name": "stderr",
     "output_type": "stream",
     "text": [
      "2023-06-20 01:47:30.448204: I tensorflow/core/grappler/optimizers/custom_graph_optimizer_registry.cc:114] Plugin optimizer for device_type CPU is enabled.\n",
      "2023-06-20 01:47:30.457240: I tensorflow/core/grappler/optimizers/custom_graph_optimizer_registry.cc:114] Plugin optimizer for device_type CPU is enabled.\n",
      "2023-06-20 01:47:30.471058: I tensorflow/core/grappler/optimizers/custom_graph_optimizer_registry.cc:114] Plugin optimizer for device_type CPU is enabled.\n"
     ]
    },
    {
     "name": "stdout",
     "output_type": "stream",
     "text": [
      "1875/1875 [==============================] - 43s 23ms/step - loss: 0.0700 - accuracy: 0.9740 - val_loss: 0.3439 - val_accuracy: 0.9145\n",
      "Epoch 9/15\n",
      "1875/1875 [==============================] - ETA: 0s - loss: 0.0611 - accuracy: 0.9780"
     ]
    },
    {
     "name": "stderr",
     "output_type": "stream",
     "text": [
      "2023-06-20 01:48:12.158505: I tensorflow/core/grappler/optimizers/custom_graph_optimizer_registry.cc:114] Plugin optimizer for device_type CPU is enabled.\n",
      "2023-06-20 01:48:12.167654: I tensorflow/core/grappler/optimizers/custom_graph_optimizer_registry.cc:114] Plugin optimizer for device_type CPU is enabled.\n",
      "2023-06-20 01:48:12.181524: I tensorflow/core/grappler/optimizers/custom_graph_optimizer_registry.cc:114] Plugin optimizer for device_type CPU is enabled.\n"
     ]
    },
    {
     "name": "stdout",
     "output_type": "stream",
     "text": [
      "1875/1875 [==============================] - 42s 22ms/step - loss: 0.0611 - accuracy: 0.9780 - val_loss: 0.3712 - val_accuracy: 0.9203\n",
      "Epoch 10/15\n",
      "1875/1875 [==============================] - ETA: 0s - loss: 0.0498 - accuracy: 0.9818"
     ]
    },
    {
     "name": "stderr",
     "output_type": "stream",
     "text": [
      "2023-06-20 01:48:53.877661: I tensorflow/core/grappler/optimizers/custom_graph_optimizer_registry.cc:114] Plugin optimizer for device_type CPU is enabled.\n",
      "2023-06-20 01:48:53.886386: I tensorflow/core/grappler/optimizers/custom_graph_optimizer_registry.cc:114] Plugin optimizer for device_type CPU is enabled.\n",
      "2023-06-20 01:48:53.899981: I tensorflow/core/grappler/optimizers/custom_graph_optimizer_registry.cc:114] Plugin optimizer for device_type CPU is enabled.\n"
     ]
    },
    {
     "name": "stdout",
     "output_type": "stream",
     "text": [
      "1875/1875 [==============================] - 42s 22ms/step - loss: 0.0498 - accuracy: 0.9818 - val_loss: 0.3570 - val_accuracy: 0.9209\n",
      "Epoch 11/15\n",
      "1875/1875 [==============================] - ETA: 0s - loss: 0.0435 - accuracy: 0.9844"
     ]
    },
    {
     "name": "stderr",
     "output_type": "stream",
     "text": [
      "2023-06-20 01:49:37.194468: I tensorflow/core/grappler/optimizers/custom_graph_optimizer_registry.cc:114] Plugin optimizer for device_type CPU is enabled.\n",
      "2023-06-20 01:49:37.205087: I tensorflow/core/grappler/optimizers/custom_graph_optimizer_registry.cc:114] Plugin optimizer for device_type CPU is enabled.\n",
      "2023-06-20 01:49:37.221333: I tensorflow/core/grappler/optimizers/custom_graph_optimizer_registry.cc:114] Plugin optimizer for device_type CPU is enabled.\n"
     ]
    },
    {
     "name": "stdout",
     "output_type": "stream",
     "text": [
      "1875/1875 [==============================] - 43s 23ms/step - loss: 0.0435 - accuracy: 0.9844 - val_loss: 0.4180 - val_accuracy: 0.9192\n",
      "Epoch 12/15\n",
      "1874/1875 [============================>.] - ETA: 0s - loss: 0.0382 - accuracy: 0.9861"
     ]
    },
    {
     "name": "stderr",
     "output_type": "stream",
     "text": [
      "2023-06-20 01:50:19.774317: I tensorflow/core/grappler/optimizers/custom_graph_optimizer_registry.cc:114] Plugin optimizer for device_type CPU is enabled.\n",
      "2023-06-20 01:50:19.783342: I tensorflow/core/grappler/optimizers/custom_graph_optimizer_registry.cc:114] Plugin optimizer for device_type CPU is enabled.\n",
      "2023-06-20 01:50:19.797148: I tensorflow/core/grappler/optimizers/custom_graph_optimizer_registry.cc:114] Plugin optimizer for device_type CPU is enabled.\n"
     ]
    },
    {
     "name": "stdout",
     "output_type": "stream",
     "text": [
      "1875/1875 [==============================] - 43s 23ms/step - loss: 0.0382 - accuracy: 0.9861 - val_loss: 0.4437 - val_accuracy: 0.9185\n",
      "Epoch 13/15\n",
      "1874/1875 [============================>.] - ETA: 0s - loss: 0.0354 - accuracy: 0.9875"
     ]
    },
    {
     "name": "stderr",
     "output_type": "stream",
     "text": [
      "2023-06-20 01:51:02.320863: I tensorflow/core/grappler/optimizers/custom_graph_optimizer_registry.cc:114] Plugin optimizer for device_type CPU is enabled.\n",
      "2023-06-20 01:51:02.329722: I tensorflow/core/grappler/optimizers/custom_graph_optimizer_registry.cc:114] Plugin optimizer for device_type CPU is enabled.\n",
      "2023-06-20 01:51:02.343611: I tensorflow/core/grappler/optimizers/custom_graph_optimizer_registry.cc:114] Plugin optimizer for device_type CPU is enabled.\n"
     ]
    },
    {
     "name": "stdout",
     "output_type": "stream",
     "text": [
      "1875/1875 [==============================] - 43s 23ms/step - loss: 0.0354 - accuracy: 0.9875 - val_loss: 0.4628 - val_accuracy: 0.9202\n",
      "Epoch 14/15\n",
      "1873/1875 [============================>.] - ETA: 0s - loss: 0.0322 - accuracy: 0.9887"
     ]
    },
    {
     "name": "stderr",
     "output_type": "stream",
     "text": [
      "2023-06-20 01:51:44.495723: I tensorflow/core/grappler/optimizers/custom_graph_optimizer_registry.cc:114] Plugin optimizer for device_type CPU is enabled.\n",
      "2023-06-20 01:51:44.505947: I tensorflow/core/grappler/optimizers/custom_graph_optimizer_registry.cc:114] Plugin optimizer for device_type CPU is enabled.\n",
      "2023-06-20 01:51:44.522182: I tensorflow/core/grappler/optimizers/custom_graph_optimizer_registry.cc:114] Plugin optimizer for device_type CPU is enabled.\n"
     ]
    },
    {
     "name": "stdout",
     "output_type": "stream",
     "text": [
      "1875/1875 [==============================] - 42s 23ms/step - loss: 0.0322 - accuracy: 0.9887 - val_loss: 0.4512 - val_accuracy: 0.9191\n",
      "Epoch 15/15\n",
      "1875/1875 [==============================] - ETA: 0s - loss: 0.0316 - accuracy: 0.9894"
     ]
    },
    {
     "name": "stderr",
     "output_type": "stream",
     "text": [
      "2023-06-20 01:52:27.490128: I tensorflow/core/grappler/optimizers/custom_graph_optimizer_registry.cc:114] Plugin optimizer for device_type CPU is enabled.\n",
      "2023-06-20 01:52:27.499454: I tensorflow/core/grappler/optimizers/custom_graph_optimizer_registry.cc:114] Plugin optimizer for device_type CPU is enabled.\n",
      "2023-06-20 01:52:27.513201: I tensorflow/core/grappler/optimizers/custom_graph_optimizer_registry.cc:114] Plugin optimizer for device_type CPU is enabled.\n"
     ]
    },
    {
     "name": "stdout",
     "output_type": "stream",
     "text": [
      "1875/1875 [==============================] - 43s 23ms/step - loss: 0.0316 - accuracy: 0.9894 - val_loss: 0.4786 - val_accuracy: 0.9206\n",
      "Total time:  642.0787622928619 seconds\n"
     ]
    }
   ],
   "source": [
    "import time\n",
    "\n",
    "start = time.time()\n",
    "model.fit(training_images, training_labels, epochs=15, \n",
    "                    validation_data=(test_images, test_labels))\n",
    "print(\"Total time: \", time.time() - start, \"seconds\")"
   ]
  },
  {
   "cell_type": "code",
   "execution_count": 11,
   "id": "c7523b49-a8a7-435f-94b0-59865bf0c006",
   "metadata": {},
   "outputs": [
    {
     "name": "stderr",
     "output_type": "stream",
     "text": [
      "2023-06-20 01:52:29.174929: I tensorflow/core/grappler/optimizers/custom_graph_optimizer_registry.cc:114] Plugin optimizer for device_type CPU is enabled.\n",
      "2023-06-20 01:52:29.183060: I tensorflow/core/grappler/optimizers/custom_graph_optimizer_registry.cc:114] Plugin optimizer for device_type CPU is enabled.\n",
      "2023-06-20 01:52:29.196423: I tensorflow/core/grappler/optimizers/custom_graph_optimizer_registry.cc:114] Plugin optimizer for device_type CPU is enabled.\n"
     ]
    },
    {
     "name": "stdout",
     "output_type": "stream",
     "text": [
      " 29/313 [=>............................] - ETA: 1s"
     ]
    },
    {
     "name": "stderr",
     "output_type": "stream",
     "text": [
      "2023-06-20 01:52:29.424930: I tensorflow/core/grappler/optimizers/custom_graph_optimizer_registry.cc:114] Plugin optimizer for device_type CPU is enabled.\n"
     ]
    },
    {
     "name": "stdout",
     "output_type": "stream",
     "text": [
      "313/313 [==============================] - 2s 5ms/step\n"
     ]
    },
    {
     "data": {
      "text/plain": [
       "(10000, 10)"
      ]
     },
     "execution_count": 11,
     "metadata": {},
     "output_type": "execute_result"
    }
   ],
   "source": [
    "ypred=model.predict(test_images)\n",
    "ypred=np.array(ypred)\n",
    "ypred.shape"
   ]
  },
  {
   "cell_type": "code",
   "execution_count": 12,
   "id": "8a9cf544-91e4-4d07-b1b2-741ecba15596",
   "metadata": {},
   "outputs": [
    {
     "data": {
      "text/plain": [
       "(10000,)"
      ]
     },
     "execution_count": 12,
     "metadata": {},
     "output_type": "execute_result"
    }
   ],
   "source": [
    "newpred=[]\n",
    "for pred in ypred:\n",
    "    pred1=np.argmax(pred)\n",
    "    newpred.append(pred1)\n",
    "newpred=np.array(newpred)\n",
    "newpred.shape"
   ]
  },
  {
   "cell_type": "code",
   "execution_count": 13,
   "id": "f0879322-e06a-4c8b-9736-2028675ea4b6",
   "metadata": {},
   "outputs": [
    {
     "name": "stdout",
     "output_type": "stream",
     "text": [
      "0.9206\n",
      "0.9206\n",
      "0.9206\n"
     ]
    }
   ],
   "source": [
    "from sklearn.metrics import f1_score,precision_score,recall_score\n",
    "print(f1_score(test_labels,newpred,average=\"micro\"))\n",
    "print(precision_score(test_labels,newpred,average=\"micro\"))\n",
    "print(recall_score(test_labels,newpred,average=\"micro\"))"
   ]
  },
  {
   "cell_type": "code",
   "execution_count": 14,
   "id": "dba844a0-0f42-4c98-89e8-7fbaf00e4c40",
   "metadata": {},
   "outputs": [
    {
     "data": {
      "text/plain": [
       "array([[855,   1,  22,  22,   1,   1,  89,   0,   9,   0],\n",
       "       [  1, 986,   0,   8,   4,   0,   0,   0,   1,   0],\n",
       "       [ 17,   1, 903,   6,  32,   0,  41,   0,   0,   0],\n",
       "       [  7,   2,   7, 941,  25,   1,  15,   0,   2,   0],\n",
       "       [  0,   0,  51,  16, 879,   0,  53,   0,   1,   0],\n",
       "       [  0,   0,   0,   1,   1, 975,   0,  15,   0,   8],\n",
       "       [ 91,   2,  59,  34,  54,   0, 747,   0,  13,   0],\n",
       "       [  0,   0,   0,   0,   0,   5,   0, 982,   0,  13],\n",
       "       [  3,   1,   5,   5,   3,   1,   2,   0, 979,   1],\n",
       "       [  0,   0,   0,   0,   0,   2,   1,  38,   0, 959]])"
      ]
     },
     "execution_count": 14,
     "metadata": {},
     "output_type": "execute_result"
    }
   ],
   "source": [
    "from sklearn.metrics import confusion_matrix\n",
    "confusion_matrix(test_labels,newpred)"
   ]
  },
  {
   "cell_type": "code",
   "execution_count": 18,
   "id": "cf9837a3-c28e-475b-a573-07483ddaa8e6",
   "metadata": {},
   "outputs": [],
   "source": [
    "model.save(r\"OptimizedModel.h5\")"
   ]
  },
  {
   "cell_type": "code",
   "execution_count": null,
   "id": "79459cb5-ff55-4282-8af3-56125a5d7757",
   "metadata": {},
   "outputs": [],
   "source": [
    " "
   ]
  }
 ],
 "metadata": {
  "kernelspec": {
   "display_name": "Tensorflow (AI kit)",
   "language": "python",
   "name": "c009-intel_distribution_of_python_3_oneapi-beta05-tf"
  },
  "language_info": {
   "codemirror_mode": {
    "name": "ipython",
    "version": 3
   },
   "file_extension": ".py",
   "mimetype": "text/x-python",
   "name": "python",
   "nbconvert_exporter": "python",
   "pygments_lexer": "ipython3",
   "version": "3.9.16"
  }
 },
 "nbformat": 4,
 "nbformat_minor": 5
}
